{
  "nbformat": 4,
  "nbformat_minor": 0,
  "metadata": {
    "colab": {
      "provenance": [],
      "toc_visible": true,
      "include_colab_link": true
    },
    "kernelspec": {
      "name": "python3",
      "display_name": "Python 3"
    },
    "language_info": {
      "name": "python"
    }
  },
  "cells": [
    {
      "cell_type": "markdown",
      "metadata": {
        "id": "view-in-github",
        "colab_type": "text"
      },
      "source": [
        "<a href=\"https://colab.research.google.com/github/gogolucj/class2025Spring/blob/main/naver_cafe_keyword_analysis.ipynb\" target=\"_parent\"><img src=\"https://colab.research.google.com/assets/colab-badge.svg\" alt=\"Open In Colab\"/></a>"
      ]
    },
    {
      "cell_type": "markdown",
      "source": [
        "# __네이버 카페 \"신라면세점\" 관련 게시글 단어 빈도 분석__"
      ],
      "metadata": {
        "id": "LWa8g6mERBN8"
      }
    },
    {
      "cell_type": "markdown",
      "source": [
        "## 1. 라이브러리 설치 및 임포트"
      ],
      "metadata": {
        "id": "WFtDG7I_Q5DG"
      }
    },
    {
      "cell_type": "code",
      "source": [
        "!pip install nltk\n",
        "!pip install selenium\n",
        "!pip install konlpy\n",
        "!apt-get update -qq\n",
        "!apt-get install -y fonts-nanum"
      ],
      "metadata": {
        "id": "WuNBp2xx-rCj"
      },
      "execution_count": null,
      "outputs": []
    },
    {
      "cell_type": "code",
      "execution_count": null,
      "metadata": {
        "id": "Cv85rfqjlWpl"
      },
      "outputs": [],
      "source": [
        "import numpy as np\n",
        "import pandas as pd\n",
        "import re\n",
        "import time\n",
        "import requests\n",
        "from bs4 import BeautifulSoup\n",
        "from selenium import webdriver\n",
        "from selenium.webdriver.common.by import By\n",
        "from selenium.webdriver.chrome.service import Service\n",
        "import nltk\n",
        "from nltk import FreqDist\n",
        "from nltk.text import Text\n",
        "from konlpy.tag import Okt\n",
        "from wordcloud import WordCloud\n",
        "import matplotlib.pyplot as plt\n",
        "import matplotlib.font_manager as fm\n",
        "\n",
        "font_path = '/usr/share/fonts/truetype/nanum/NanumGothic.ttf'\n",
        "fm.fontManager.addfont(font_path)\n",
        "plt.rc('font', family='NanumGothic')"
      ]
    },
    {
      "cell_type": "markdown",
      "source": [
        "## 2. 데이터 크롤링"
      ],
      "metadata": {
        "id": "UNwJQItkRQu0"
      }
    },
    {
      "cell_type": "markdown",
      "source": [
        "### (1) 네이버 카페 검색 결과 페이지 크롤링"
      ],
      "metadata": {
        "id": "3LzkWHh5xPqz"
      }
    },
    {
      "cell_type": "code",
      "source": [
        "# 네이버에서 신라면세점 검색 결과 중 카페 게시글, 최근 1달 이내 게시글\n",
        "URL = 'https://search.naver.com/search.naver?cafe_where=&date_option=4&prdtype=0&query=%EC%8B%A0%EB%9D%BC%EB%A9%B4%EC%84%B8%EC%A0%90&sm=mtb_opt&ssc=tab.cafe.all&st=rel&stnm=rel&opt_tab=0&nso=so%3Ar%2Cp%3A1m'"
      ],
      "metadata": {
        "id": "_M0yR8uYltMg"
      },
      "execution_count": null,
      "outputs": []
    },
    {
      "cell_type": "code",
      "source": [
        "options = webdriver.ChromeOptions()\n",
        "options.add_argument(\"--headless\")\n",
        "options.add_argument(\"--disable-dev-shm-usage\")\n",
        "options.add_argument(\"--no-sandbox\")\n",
        "driver = webdriver.Chrome(options=options)\n",
        "\n",
        "driver.get(URL)\n",
        "\n",
        "all_posts = []\n",
        "\n",
        "# 스크롤하면 게시글이 계속 추가되는 형태 → 일정 횟수만큼 스크롤 반복\n",
        "for _ in range(3): # 스크롤 횟수\n",
        "    # 스크롤 맨 아래로\n",
        "    driver.execute_script(\"window.scrollTo(0, document.body.scrollHeight);\")\n",
        "\n",
        "    # 로딩 기다리기\n",
        "    time.sleep(2)\n",
        "\n",
        "    # 게시글\n",
        "    posts = driver.find_elements(By.CLASS_NAME, 'view_wrap')\n",
        "    for post in posts:\n",
        "        cafe_name = post.find_element(By.CLASS_NAME, 'user_info').find_element(By.TAG_NAME, 'a').text\n",
        "        title = post.find_element(By.CLASS_NAME, 'title_area').text\n",
        "        # summary = post.find_element(By.CLASS_NAME, 'dsc_area').text\n",
        "        link = post.find_element(By.CLASS_NAME, 'title_area').find_element(By.TAG_NAME, 'a').get_attribute('href')\n",
        "\n",
        "        post_data = {\n",
        "            'cafe_name': cafe_name,\n",
        "            'title': title,\n",
        "            # 'summary': summary,\n",
        "            'link': link\n",
        "        }\n",
        "        all_posts.append(post_data)\n",
        "        print(title)\n",
        "        print('\\n')"
      ],
      "metadata": {
        "id": "-mdc2Zbr_67q"
      },
      "execution_count": null,
      "outputs": []
    },
    {
      "cell_type": "code",
      "source": [
        "len(all_posts)"
      ],
      "metadata": {
        "id": "IcnvKqiXAMGL"
      },
      "execution_count": null,
      "outputs": []
    },
    {
      "cell_type": "markdown",
      "source": [
        "### (2) 네이버 카페 게시글 크롤링"
      ],
      "metadata": {
        "id": "eLysJGb5Sx1f"
      }
    },
    {
      "cell_type": "code",
      "source": [
        "for post in all_posts:\n",
        "    URL = post['link']\n",
        "    print(URL)\n",
        "    driver.get(URL)\n",
        "\n",
        "    time.sleep(2)\n",
        "    try:\n",
        "        driver.switch_to.frame('cafe_main')\n",
        "        content = driver.find_element(By.CLASS_NAME, 'se-main-container').text\n",
        "        post['content'] = content\n",
        "    except:\n",
        "        pass"
      ],
      "metadata": {
        "id": "I91KjlbqTeW6"
      },
      "execution_count": null,
      "outputs": []
    },
    {
      "cell_type": "markdown",
      "source": [
        "## 3. 데이터 전처리"
      ],
      "metadata": {
        "id": "RZnWYXRvT8as"
      }
    },
    {
      "cell_type": "code",
      "source": [
        "cleaned_contents = []\n",
        "\n",
        "for post in all_posts:\n",
        "\n",
        "    try:\n",
        "        text = post['content']\n",
        "\n",
        "        pattern = r'^(■).*$' # ■ 로 시작하는 문장 삭제\n",
        "        text = re.sub(pattern, '', text, flags=re.MULTILINE)\n",
        "        text = re.sub('구입기 필수 정보', '', text)\n",
        "        text = re.sub('구매 정보가 없는 글은 회원 술자랑 게시판에 올려주세요', '', text)\n",
        "        text = re.sub('게시판 이용 주의 사항 - 삭제 금지', '', text)\n",
        "        text = re.sub(r'[^가-힣a-zA-Z0-9\\s\\.\\,\\?\\!\\$\\\\\\/\\:]', '', text)\n",
        "        text = re.sub(r'\\s+', ' ', text)\n",
        "        text = re.sub(r'\\n+', '\\n', text).strip()\n",
        "\n",
        "\n",
        "        # 회사명 통일\n",
        "        text = text.replace('신라 면세점', '신라면세점')\n",
        "        text = re.sub(r'\\b신라\\b', '신라면세점', text)\n",
        "\n",
        "        cleaned_contents.append(text)\n",
        "    except:\n",
        "        pass"
      ],
      "metadata": {
        "id": "HOGagv1zUJIy"
      },
      "execution_count": null,
      "outputs": []
    },
    {
      "cell_type": "code",
      "source": [
        "# 품사 분석\n",
        "joined_contents = ' '.join(cleaned_contents)\n",
        "okt = Okt()\n",
        "tokens = okt.pos(joined_contents)\n",
        "filtered_tokens = [word for word, pos in tokens if pos in ['Noun']]\n",
        "filtered_tokens = [n for n in filtered_tokens if len(n) > 1] # 2글자 이상 단어"
      ],
      "metadata": {
        "id": "Tx17OVLOYC61"
      },
      "execution_count": null,
      "outputs": []
    },
    {
      "cell_type": "markdown",
      "source": [
        "## 4. 데이터 분석"
      ],
      "metadata": {
        "id": "i3AYYSHiX1Nd"
      }
    },
    {
      "cell_type": "markdown",
      "source": [
        "### (1) 빈도 분석"
      ],
      "metadata": {
        "id": "pt0WcJlsj1Gc"
      }
    },
    {
      "cell_type": "code",
      "source": [
        "fdist = FreqDist(filtered_tokens)\n",
        "remove_words = ['신라', '면세점', '면세']\n",
        "for word in remove_words:\n",
        "    if word in fdist:\n",
        "        del fdist[word]\n",
        "print(fdist.most_common(10))"
      ],
      "metadata": {
        "id": "0R_JGYaAX_NL"
      },
      "execution_count": null,
      "outputs": []
    },
    {
      "cell_type": "code",
      "source": [
        "fdist.plot(20)"
      ],
      "metadata": {
        "id": "0te96LQEb6Dy"
      },
      "execution_count": null,
      "outputs": []
    },
    {
      "cell_type": "code",
      "source": [
        "wc = WordCloud(font_path = font_path, background_color = 'white', width = 800, height = 400)\n",
        "wc.generate_from_frequencies(fdist)\n",
        "\n",
        "plt.figure(figsize = (12, 6))\n",
        "plt.imshow(wc, interpolation = 'bilinear')\n",
        "plt.axis('off')\n",
        "plt.title('신라면세점 게시글 단어 빈도 분석', fontsize = 20)\n",
        "plt.show()"
      ],
      "metadata": {
        "id": "dxeI80oDcM-Y"
      },
      "execution_count": null,
      "outputs": []
    },
    {
      "cell_type": "markdown",
      "source": [
        "### (2) 단어 분포 분석"
      ],
      "metadata": {
        "id": "ZO509k_pj4GH"
      }
    },
    {
      "cell_type": "code",
      "source": [
        "tokens_list = Text(filtered_tokens)\n",
        "tokens_list.dispersion_plot(['신라', '롯데', '신세계', '현대', '위스키', '혜택'])"
      ],
      "metadata": {
        "id": "fAox-Xc-gx-u"
      },
      "execution_count": null,
      "outputs": []
    },
    {
      "cell_type": "code",
      "source": [],
      "metadata": {
        "id": "gAsnpGjK5OVd"
      },
      "execution_count": null,
      "outputs": []
    }
  ]
}